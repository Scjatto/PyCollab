{
  "nbformat": 4,
  "nbformat_minor": 0,
  "metadata": {
    "colab": {
      "provenance": [],
      "authorship_tag": "ABX9TyNTZXNAMvsZA/NV8Sf7weJ/",
      "include_colab_link": true
    },
    "kernelspec": {
      "name": "python3",
      "display_name": "Python 3"
    },
    "language_info": {
      "name": "python"
    }
  },
  "cells": [
    {
      "cell_type": "markdown",
      "metadata": {
        "id": "view-in-github",
        "colab_type": "text"
      },
      "source": [
        "<a href=\"https://colab.research.google.com/github/Scjatto/PyCollab/blob/main/Basic_Codes.ipynb\" target=\"_parent\"><img src=\"https://colab.research.google.com/assets/colab-badge.svg\" alt=\"Open In Colab\"/></a>"
      ]
    },
    {
      "cell_type": "markdown",
      "source": [
        "## Starting with the basic level implementations in python"
      ],
      "metadata": {
        "id": "XuaDjNxsv7gp"
      }
    },
    {
      "cell_type": "code",
      "execution_count": null,
      "metadata": {
        "colab": {
          "base_uri": "https://localhost:8080/"
        },
        "id": "jutUalevvpFw",
        "outputId": "ab4889ae-e60a-4792-9144-50cbcb6367f1"
      },
      "outputs": [
        {
          "output_type": "stream",
          "name": "stdout",
          "text": [
            "The Zen of Python, by Tim Peters\n",
            "\n",
            "Beautiful is better than ugly.\n",
            "Explicit is better than implicit.\n",
            "Simple is better than complex.\n",
            "Complex is better than complicated.\n",
            "Flat is better than nested.\n",
            "Sparse is better than dense.\n",
            "Readability counts.\n",
            "Special cases aren't special enough to break the rules.\n",
            "Although practicality beats purity.\n",
            "Errors should never pass silently.\n",
            "Unless explicitly silenced.\n",
            "In the face of ambiguity, refuse the temptation to guess.\n",
            "There should be one-- and preferably only one --obvious way to do it.\n",
            "Although that way may not be obvious at first unless you're Dutch.\n",
            "Now is better than never.\n",
            "Although never is often better than *right* now.\n",
            "If the implementation is hard to explain, it's a bad idea.\n",
            "If the implementation is easy to explain, it may be a good idea.\n",
            "Namespaces are one honking great idea -- let's do more of those!\n"
          ]
        }
      ],
      "source": [
        "import this"
      ]
    },
    {
      "cell_type": "markdown",
      "source": [
        "# Coutdown Timer"
      ],
      "metadata": {
        "id": "dABNVdoZwLRq"
      }
    },
    {
      "cell_type": "code",
      "source": [
        "import time\n",
        "import progressbar\n",
        "\n",
        "countdown_time = int (input())\n",
        "# print (\"Start timer for {} seconds\".format(countdown_time))\n",
        "\n",
        "''' start_time = time.time()\n",
        "while True:\n",
        "    # sleep for 1 sec\n",
        "    time.sleep(1);\n",
        "    end_time = time.time()\n",
        "\n",
        "    print (\"Time spent: {}/{} Seconds\".format((end_time - start_time), countdown_time))\n",
        "\n",
        "    if ((end_time - start_time) > countdown_time) :\n",
        "        break;\n",
        "\n",
        "print (\"Timer ends after {} seconds\".format(countdown_time)) '''\n",
        "\n",
        "widgets = [' [',\n",
        "         progressbar.Timer(format= 'elapsed time: %(elapsed)s/{}'.format(countdown_time)),\n",
        "         '] ',\n",
        "           progressbar.Bar('-'),\n",
        "        #    ' (',\n",
        "        #    progressbar.ETA(), ') ',\n",
        "          ]\n",
        " \n",
        "bar = progressbar.ProgressBar(max_value=countdown_time,\n",
        "                              widgets=widgets).start()\n",
        "\n",
        "for i in range(countdown_time):\n",
        "    time.sleep(1);\n",
        "    print (\" Time elapsed {} Sec\".format(i+1));\n",
        "    bar.update(i+1)\n",
        "\n"
      ],
      "metadata": {
        "colab": {
          "base_uri": "https://localhost:8080/"
        },
        "id": "HKXp1VUfvuwf",
        "outputId": "9203ff10-66e8-43da-96ee-b4b89f0f1861"
      },
      "execution_count": null,
      "outputs": [
        {
          "name": "stdout",
          "output_type": "stream",
          "text": [
            "10\n"
          ]
        },
        {
          "output_type": "stream",
          "name": "stderr",
          "text": [
            " [elapsed time: 0:00:01/10] |----                                             |"
          ]
        },
        {
          "output_type": "stream",
          "name": "stdout",
          "text": [
            " Time elapsed 1 Sec\n"
          ]
        },
        {
          "output_type": "stream",
          "name": "stderr",
          "text": [
            "\r                                                                               \r\r [elapsed time: 0:00:02/10] |---------                                        |"
          ]
        },
        {
          "output_type": "stream",
          "name": "stdout",
          "text": [
            " Time elapsed 2 Sec\n"
          ]
        },
        {
          "output_type": "stream",
          "name": "stderr",
          "text": [
            "\r                                                                               \r\r [elapsed time: 0:00:03/10] |--------------                                   |"
          ]
        },
        {
          "output_type": "stream",
          "name": "stdout",
          "text": [
            " Time elapsed 3 Sec\n"
          ]
        },
        {
          "output_type": "stream",
          "name": "stderr",
          "text": [
            "\r                                                                               \r\r [elapsed time: 0:00:04/10] |-------------------                              |"
          ]
        },
        {
          "output_type": "stream",
          "name": "stdout",
          "text": [
            " Time elapsed 4 Sec\n"
          ]
        },
        {
          "output_type": "stream",
          "name": "stderr",
          "text": [
            "\r                                                                               \r\r [elapsed time: 0:00:05/10] |------------------------                         |"
          ]
        },
        {
          "output_type": "stream",
          "name": "stdout",
          "text": [
            " Time elapsed 5 Sec\n"
          ]
        },
        {
          "output_type": "stream",
          "name": "stderr",
          "text": [
            "\r                                                                               \r\r [elapsed time: 0:00:06/10] |-----------------------------                    |"
          ]
        },
        {
          "output_type": "stream",
          "name": "stdout",
          "text": [
            " Time elapsed 6 Sec\n"
          ]
        },
        {
          "output_type": "stream",
          "name": "stderr",
          "text": [
            "\r                                                                               \r\r [elapsed time: 0:00:07/10] |----------------------------------               |"
          ]
        },
        {
          "output_type": "stream",
          "name": "stdout",
          "text": [
            " Time elapsed 7 Sec\n"
          ]
        },
        {
          "output_type": "stream",
          "name": "stderr",
          "text": [
            "\r                                                                               \r\r [elapsed time: 0:00:08/10] |---------------------------------------          |"
          ]
        },
        {
          "output_type": "stream",
          "name": "stdout",
          "text": [
            " Time elapsed 8 Sec\n"
          ]
        },
        {
          "output_type": "stream",
          "name": "stderr",
          "text": [
            "\r                                                                               \r\r [elapsed time: 0:00:09/10] |--------------------------------------------     |"
          ]
        },
        {
          "output_type": "stream",
          "name": "stdout",
          "text": [
            " Time elapsed 9 Sec\n"
          ]
        },
        {
          "output_type": "stream",
          "name": "stderr",
          "text": [
            "\r                                                                               \r\r [elapsed time: 0:00:10/10] |-------------------------------------------------|"
          ]
        },
        {
          "output_type": "stream",
          "name": "stdout",
          "text": [
            " Time elapsed 10 Sec\n"
          ]
        }
      ]
    },
    {
      "cell_type": "code",
      "source": [],
      "metadata": {
        "id": "UltHcj1QwetZ"
      },
      "execution_count": null,
      "outputs": []
    }
  ]
}